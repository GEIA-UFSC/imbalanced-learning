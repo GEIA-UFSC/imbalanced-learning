{
 "cells": [
  {
   "cell_type": "markdown",
   "metadata": {},
   "source": [
    "## Algorithm level approaches"
   ]
  },
  {
   "cell_type": "code",
   "execution_count": 3,
   "metadata": {},
   "outputs": [],
   "source": [
    "import pandas as pd\n",
    "\n",
    "from imblearn.combine import SMOTETomek\n",
    "\n",
    "from sklearn.metrics import roc_auc_score as roc_auc, accuracy_score as acc\n",
    "from sklearn.metrics import recall_score as recall, precision_score as precision\n",
    "\n",
    "from setup import rfc, wrangle_data, split_data\n",
    "from xgboost import XGBClassifier\n",
    "\n",
    "# GDClassifier is a linear classifier (by default in sklearn it is a linear SVM) that uses SGD for training \n",
    "from sklearn.linear_model import SGDClassifier as SVM\n",
    "\n",
    "seed = 42"
   ]
  },
  {
   "cell_type": "markdown",
   "metadata": {},
   "source": [
    "**Data wrangling**"
   ]
  },
  {
   "cell_type": "code",
   "execution_count": 6,
   "metadata": {},
   "outputs": [],
   "source": [
    "train = pd.read_csv('./train_ZoGVYWq.csv')\n",
    "train = wrangle_data(train)"
   ]
  },
  {
   "cell_type": "markdown",
   "metadata": {},
   "source": [
    "**Train and validation split and sample synthetic generation**"
   ]
  },
  {
   "cell_type": "code",
   "execution_count": 7,
   "metadata": {},
   "outputs": [],
   "source": [
    "train_X, validation_X, train_Y, validation_Y = split_data(train, segmented=True)\n",
    "\n",
    "sm = SMOTETomek(random_state=seed)\n",
    "train_X_res, train_Y_res = sm.fit_sample(train_X, train_Y)"
   ]
  },
  {
   "cell_type": "markdown",
   "metadata": {},
   "source": [
    "**Baseline**"
   ]
  },
  {
   "cell_type": "code",
   "execution_count": 8,
   "metadata": {},
   "outputs": [
    {
     "name": "stdout",
     "output_type": "stream",
     "text": [
      "ROC-AUC: 0.61\n"
     ]
    }
   ],
   "source": [
    "rfc(train_X_res, train_Y_res, validation_X, validation_Y)"
   ]
  },
  {
   "cell_type": "markdown",
   "metadata": {},
   "source": [
    "**Weighted Random Forest Classifier**"
   ]
  },
  {
   "cell_type": "code",
   "execution_count": 44,
   "metadata": {},
   "outputs": [
    {
     "name": "stdout",
     "output_type": "stream",
     "text": [
      "With sampling technique\n",
      "ROC-AUC: 0.60\n",
      "\n",
      "Without sampling technique\n",
      "ROC-AUC: 0.55\n"
     ]
    }
   ],
   "source": [
    "print(\"With sampling technique\")\n",
    "rfc(train_X_res, train_Y_res, validation_X, validation_Y, class_weight={0:2, 1:1})\n",
    "\n",
    "print(\"\\nWithout sampling technique\")\n",
    "rfc(train_X, train_Y, validation_X, validation_Y, class_weight={0:2, 1:1})"
   ]
  },
  {
   "cell_type": "markdown",
   "metadata": {},
   "source": [
    "<br>**Support Vector Machine (SVM)**<br>\n",
    "Example: [[link1]](http://scikit-learn.org/stable/auto_examples/svm/plot_separating_hyperplane_unbalanced.html)"
   ]
  },
  {
   "cell_type": "code",
   "execution_count": 36,
   "metadata": {},
   "outputs": [
    {
     "name": "stdout",
     "output_type": "stream",
     "text": [
      "ROC-AUC: 0.75\n"
     ]
    }
   ],
   "source": [
    "svm = SVM(random_state=seed)\n",
    "svm.fit(train_X_res, train_Y_res)\n",
    "print(\"ROC-AUC: {0:.2f}\".format(roc_auc(validation_Y, svm.predict(validation_X))))"
   ]
  },
  {
   "cell_type": "markdown",
   "metadata": {},
   "source": [
    "<br>**Ensemble methods**<br>\n",
    "Boosting algorithm - XGBoost\n",
    "\n",
    "Tunning:\n",
    "[[link1]](https://www.analyticsvidhya.com/blog/2016/03/complete-guide-parameter-tuning-xgboost-with-codes-python/)"
   ]
  },
  {
   "cell_type": "code",
   "execution_count": 52,
   "metadata": {},
   "outputs": [
    {
     "name": "stdout",
     "output_type": "stream",
     "text": [
      "ROC-AUC: 0.72\n"
     ]
    }
   ],
   "source": [
    "xgb = XGBClassifier(learning_rate=0.005,\n",
    "                    n_estimators=200, \n",
    "                    max_depth=4, \n",
    "                    subsample=0.8, \n",
    "                    colsample_bytree=0.5, \n",
    "                    objective= 'binary:logistic', \n",
    "                    n_jobs=-1, \n",
    "                    scale_pos_weight=1, \n",
    "                    random_state=seed)\n",
    "\n",
    "xgb.fit(train_X_res, train_Y_res, eval_metric=roc_auc)\n",
    "\n",
    "print(\"ROC-AUC: {0:.2f}\".format(roc_auc(validation_Y, xgb.predict(validation_X))))"
   ]
  },
  {
   "cell_type": "markdown",
   "metadata": {},
   "source": [
    "`subsample`: Subsample ratio of the training instance <br>\n",
    "`colsample_bytree`: Subsample ratio of columns when constructing each tree <br>\n",
    "`scale_pos_weight`: Balancing of positive and negative weights "
   ]
  },
  {
   "cell_type": "markdown",
   "metadata": {},
   "source": [
    "**XGBoost: Precision and Recall**"
   ]
  },
  {
   "cell_type": "code",
   "execution_count": 53,
   "metadata": {},
   "outputs": [
    {
     "name": "stdout",
     "output_type": "stream",
     "text": [
      "Precision: 0.32\n",
      "Recall: 0.92\n"
     ]
    }
   ],
   "source": [
    "print(\"Precision: {0:.2f}\".format(precision(validation_Y, xgb.predict(validation_X), pos_label=0)))\n",
    "print(\"Recall: {0:.2f}\".format(recall(validation_Y, xgb.predict(validation_X)), pos_label=0))"
   ]
  },
  {
   "cell_type": "markdown",
   "metadata": {},
   "source": [
    "**Further examples** <br>\n",
    "[Fraud detection with SMOTE and XGBoost](https://www.kaggle.com/bonovandoo/fraud-detection-with-smote-and-xgboost-in-r<br>)\n",
    "<br>[Imbalanced data - XGBoost Tunning](https://www.kaggle.com/saxinou/imbalanced-data-xgboost-tunning)"
   ]
  }
 ],
 "metadata": {
  "kernelspec": {
   "display_name": "Python 3",
   "language": "python",
   "name": "python3"
  },
  "language_info": {
   "codemirror_mode": {
    "name": "ipython",
    "version": 3
   },
   "file_extension": ".py",
   "mimetype": "text/x-python",
   "name": "python",
   "nbconvert_exporter": "python",
   "pygments_lexer": "ipython3",
   "version": "3.6.5"
  }
 },
 "nbformat": 4,
 "nbformat_minor": 2
}
