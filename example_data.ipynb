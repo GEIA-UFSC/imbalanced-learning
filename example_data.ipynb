{
 "cells": [
  {
   "cell_type": "markdown",
   "metadata": {},
   "source": [
    "## Data level approaches"
   ]
  },
  {
   "cell_type": "code",
   "execution_count": 1,
   "metadata": {},
   "outputs": [],
   "source": [
    "import pandas as pd\n",
    "from imblearn.over_sampling import SMOTE, ADASYN\n",
    "from imblearn.combine import SMOTETomek\n",
    "from sklearn.metrics import roc_auc_score as roc_auc, accuracy_score as acc\n",
    "from setup import rfc, wrangle_data, split_data\n",
    "\n",
    "seed = 42"
   ]
  },
  {
   "cell_type": "markdown",
   "metadata": {},
   "source": [
    "**Data wrangling**"
   ]
  },
  {
   "cell_type": "code",
   "execution_count": 2,
   "metadata": {},
   "outputs": [
    {
     "name": "stdout",
     "output_type": "stream",
     "text": [
      "Unbalanced ratio: 15:1\n"
     ]
    }
   ],
   "source": [
    "train = pd.read_csv('./train_ZoGVYWq.csv')\n",
    "train = wrangle_data(train)\n",
    "\n",
    "print('Unbalanced ratio: {}:1'.format(int(round(len(train[train.renewal==1])/len(train[train.renewal==0])))))"
   ]
  },
  {
   "cell_type": "markdown",
   "metadata": {},
   "source": [
    "**Train and validation split**"
   ]
  },
  {
   "cell_type": "code",
   "execution_count": 3,
   "metadata": {},
   "outputs": [],
   "source": [
    "train_X, validation_X, train_Y, validation_Y = split_data(train, segmented=True)"
   ]
  },
  {
   "cell_type": "markdown",
   "metadata": {},
   "source": [
    "**Baseline**"
   ]
  },
  {
   "cell_type": "code",
   "execution_count": 4,
   "metadata": {},
   "outputs": [
    {
     "name": "stdout",
     "output_type": "stream",
     "text": [
      "ROC-AUC: 0.56\n"
     ]
    }
   ],
   "source": [
    "rfc(train_X, train_Y, validation_X, validation_Y)"
   ]
  },
  {
   "cell_type": "markdown",
   "metadata": {},
   "source": [
    "**Over and undersampling techniques**"
   ]
  },
  {
   "cell_type": "markdown",
   "metadata": {},
   "source": [
    "<br>\n",
    "SMOTE (oversampling)"
   ]
  },
  {
   "cell_type": "code",
   "execution_count": 5,
   "metadata": {},
   "outputs": [
    {
     "name": "stdout",
     "output_type": "stream",
     "text": [
      "SMOTE + RandomForestClassifier\n",
      "Unbalanced ratio: 1:1\n",
      "ROC-AUC: 0.61\n"
     ]
    }
   ],
   "source": [
    "sm = SMOTE(random_state=seed, ratio='minority')\n",
    "train_X_res, train_Y_res = sm.fit_sample(train_X, train_Y)\n",
    "\n",
    "\n",
    "print(\"SMOTE + RandomForestClassifier\")\n",
    "print('Unbalanced ratio: {}:1'.format(int(round(len(train_Y_res[train_Y_res==1])/len(train_Y_res[train_Y_res==0])))))\n",
    "rfc(train_X_res, train_Y_res, validation_X, validation_Y)"
   ]
  },
  {
   "cell_type": "markdown",
   "metadata": {},
   "source": [
    "<br>\n",
    "SMOTE (oversampling) + Tomek Links (undersampling)"
   ]
  },
  {
   "cell_type": "code",
   "execution_count": 6,
   "metadata": {},
   "outputs": [
    {
     "name": "stdout",
     "output_type": "stream",
     "text": [
      "SMOTETomek + RandomForestClassifier\n",
      "Unbalanced ratio: 1:1\n",
      "ROC-AUC: 0.61\n"
     ]
    }
   ],
   "source": [
    "sm = SMOTETomek(random_state=seed)\n",
    "train_X_res, train_Y_res = sm.fit_sample(train_X, train_Y)\n",
    "\n",
    "print(\"SMOTETomek + RandomForestClassifier\")\n",
    "print('Unbalanced ratio: {}:1'.format(int(round(len(train_Y_res[train_Y_res==1])/len(train_Y_res[train_Y_res==0])))))\n",
    "rfc(train_X_res, train_Y_res, validation_X, validation_Y)"
   ]
  },
  {
   "cell_type": "markdown",
   "metadata": {},
   "source": [
    "<br>\n",
    "ADASYN (oversampling)"
   ]
  },
  {
   "cell_type": "code",
   "execution_count": 7,
   "metadata": {},
   "outputs": [
    {
     "name": "stdout",
     "output_type": "stream",
     "text": [
      "ADASYN + RandomForestClassifier\n",
      "Unbalanced ratio: 1:1\n",
      "ROC-AUC: 0.61\n"
     ]
    }
   ],
   "source": [
    "ad = ADASYN(random_state=seed)\n",
    "train_X_res, train_Y_res = ad.fit_sample(train_X, train_Y)\n",
    "\n",
    "print(\"ADASYN + RandomForestClassifier\")\n",
    "print('Unbalanced ratio: {}:1'.format(int(round(len(train_Y_res[train_Y_res==1])/len(train_Y_res[train_Y_res==0])))))\n",
    "rfc(train_X_res, train_Y_res, validation_X, validation_Y)"
   ]
  },
  {
   "cell_type": "markdown",
   "metadata": {},
   "source": [
    "PS: It's very important to create synthetic samples only in the training set, in other words, after the split"
   ]
  }
 ],
 "metadata": {
  "kernelspec": {
   "display_name": "Python 3",
   "language": "python",
   "name": "python3"
  },
  "language_info": {
   "codemirror_mode": {
    "name": "ipython",
    "version": 3
   },
   "file_extension": ".py",
   "mimetype": "text/x-python",
   "name": "python",
   "nbconvert_exporter": "python",
   "pygments_lexer": "ipython3",
   "version": "3.6.5"
  }
 },
 "nbformat": 4,
 "nbformat_minor": 2
}
